{
 "cells": [
  {
   "cell_type": "markdown",
   "metadata": {},
   "source": [
    "# Homework 1\n",
    "## Exercise 1\n",
    "\n",
    "### Task 1.A"
   ]
  },
  {
   "cell_type": "code",
   "execution_count": null,
   "metadata": {},
   "outputs": [],
   "source": [
    "!pip3 install pandas\n",
    "import pandas as pd"
   ]
  },
  {
   "cell_type": "markdown",
   "metadata": {},
   "source": [
    "now, we load the data to countries_data from the [AIT Moodle](https://24spring.web-tools.hu/course/view.php?id=9)"
   ]
  },
  {
   "cell_type": "code",
   "execution_count": null,
   "metadata": {},
   "outputs": [],
   "source": [
    "f = open(\"./Data/countries.csv\", 'r')\n",
    "countries_data = pd.read_csv(f)"
   ]
  },
  {
   "cell_type": "markdown",
   "metadata": {},
   "source": [
    "Now, we load Income Per Person data from [Gapminder](https://www.gapminder.org/data/) \"GDP/capita (US$, inflation-adjusted)\" and \"Life expectancy, at birth\""
   ]
  },
  {
   "cell_type": "code",
   "execution_count": null,
   "metadata": {},
   "outputs": [],
   "source": [
    "income_data = pd.read_csv(open(\"./Data/gdppercapita_us_inflation_adjusted.csv\", 'r'))\n",
    "life_expectancy_data = pd.read_csv(open(\"./Data/lex.csv\", 'r'))"
   ]
  },
  {
   "cell_type": "markdown",
   "metadata": {},
   "source": [
    "### Task 1.B"
   ]
  },
  {
   "cell_type": "markdown",
   "metadata": {},
   "source": [
    "first import necessary libraries as demonstrated in Lab1 in class (source: personal notes)"
   ]
  },
  {
   "cell_type": "code",
   "execution_count": null,
   "metadata": {},
   "outputs": [],
   "source": [
    "import numpy as np\n",
    "import matplotlib.pyplot as plt\n",
    "%matplotlib inline"
   ]
  },
  {
   "cell_type": "markdown",
   "metadata": {},
   "source": [
    "Now let's write a function to plot the histogram. Firstly, we analyze the data in the csv file visually and see that not all numbers are in number format, so we first convert all of them to the correct format."
   ]
  },
  {
   "cell_type": "code",
   "execution_count": null,
   "metadata": {},
   "outputs": [],
   "source": [
    "def convert_to_numbers(df):\n",
    "    new_df = df.copy()\n",
    "    for column_name in new_df.columns[1:]:\n",
    "        new_df[column_name] = df[column_name]\n",
    "        new_df[\"contains_k\"] = new_df[column_name].str.contains(\"k\") == True\n",
    "        new_df[column_name] = new_df[column_name].str.replace(\"k\", \"\").astype(float)\n",
    "        new_df[column_name] = np.where(new_df.contains_k == True, new_df[column_name]*1000, new_df[column_name])\n",
    "        new_df.drop(\"contains_k\", axis=1, inplace=True)\n",
    "    return new_df\n"
   ]
  },
  {
   "cell_type": "code",
   "execution_count": null,
   "metadata": {},
   "outputs": [],
   "source": [
    "income_data = convert_to_numbers(income_data)"
   ]
  },
  {
   "cell_type": "markdown",
   "metadata": {},
   "source": [
    "Now we can simply plot the numbers"
   ]
  },
  {
   "cell_type": "code",
   "execution_count": null,
   "metadata": {},
   "outputs": [],
   "source": [
    "def plot_income_per_year_hist(year):\n",
    "\n",
    "    # Select the income data for the current year\n",
    "    year = str(year)\n",
    "    income_year = income_data[year].dropna()\n",
    "\n",
    "    # Plot the histogram\n",
    "    plt.hist(income_year, bins=10, color='red')\n",
    "    plt.title(f'Income Distribution - {year}')\n",
    "    plt.xlabel('Income per Capita')\n",
    "    plt.ylabel('Frequency')\n",
    "    plt.show()"
   ]
  },
  {
   "cell_type": "markdown",
   "metadata": {},
   "source": [
    "Let's see the histograms of different years"
   ]
  },
  {
   "cell_type": "code",
   "execution_count": null,
   "metadata": {},
   "outputs": [],
   "source": [
    "plot_income_per_year_hist(1969)\n",
    "plot_income_per_year_hist(1991)\n",
    "plot_income_per_year_hist(2000)\n",
    "plot_income_per_year_hist(2021)\n"
   ]
  },
  {
   "cell_type": "markdown",
   "metadata": {},
   "source": [
    "#### Income distribution\n",
    "We can see that the income distribution has stably been uneven between the countries over the century. However, the trends show historical growth in 40-80 percentiles - in 1961 less countries were in these percentiles than in 2000 or 2021.\n",
    "\n",
    "#### Income change\n",
    "As for the growth, we see that the overall IpC has doubled in the time period of 1961-2021"
   ]
  },
  {
   "cell_type": "markdown",
   "metadata": {},
   "source": [
    "### Task 1.C"
   ]
  },
  {
   "cell_type": "markdown",
   "metadata": {},
   "source": []
  },
  {
   "cell_type": "markdown",
   "metadata": {},
   "source": [
    "First we visually check the data and see differcency in the name of the \"Country\" column, so we first standartize the column name. Then we pairwise merge the three dataframes as shown in [Merging dataframes](https://pandas.pydata.org/pandas-docs/stable/reference/api/pandas.DataFrame.merge.html)"
   ]
  },
  {
   "cell_type": "code",
   "execution_count": null,
   "metadata": {},
   "outputs": [],
   "source": [
    "def merge_dataframes(countries_data, income_data, life_expectancy_data):\n",
    "    income_data.rename(columns={'country': 'Country'}, inplace=True)\n",
    "    life_expectancy_data.rename(columns={'country': 'Country'}, inplace=True)\n",
    "    return pd.merge(countries_data, income_data, on='Country').merge(life_expectancy_data, on='Country', suffixes=(\"_income\", '_lex'))"
   ]
  },
  {
   "cell_type": "markdown",
   "metadata": {},
   "source": [
    "### Task 1.D\n",
    "\n",
    "First, we call the merge_dataframes from Task 1.C"
   ]
  },
  {
   "cell_type": "code",
   "execution_count": null,
   "metadata": {},
   "outputs": [],
   "source": [
    "merged_data = merge_dataframes(countries_data, income_data, life_expectancy_data)"
   ]
  },
  {
   "cell_type": "code",
   "execution_count": null,
   "metadata": {},
   "outputs": [],
   "source": [
    "plt.scatter(merged_data['2021_income'], merged_data['2021_lex'], color='blue')\n",
    "plt.title('Life Expectancy vs. Income')\n",
    "plt.xlabel('Income per Capita')\n",
    "plt.ylabel('Life Expectancy')\n"
   ]
  },
  {
   "cell_type": "markdown",
   "metadata": {},
   "source": [
    "Based on the plot we can see strong positive exponential relationship between the two variables"
   ]
  },
  {
   "cell_type": "markdown",
   "metadata": {},
   "source": [
    "### Task 1.E"
   ]
  },
  {
   "cell_type": "markdown",
   "metadata": {},
   "source": [
    "First we get take the needed columns from the data"
   ]
  },
  {
   "cell_type": "code",
   "execution_count": 106,
   "metadata": {},
   "outputs": [],
   "source": [
    "income_data_1960 = merged_data[[\"Country\", \"Region\", \"1960_income\"]].dropna()\n",
    "income_data_2010 = merged_data[['Country','Region', '2010_income']].dropna()"
   ]
  },
  {
   "cell_type": "markdown",
   "metadata": {},
   "source": [
    "Then we draw the boxplot diagram"
   ]
  },
  {
   "cell_type": "code",
   "execution_count": 111,
   "metadata": {},
   "outputs": [
    {
     "data": {
      "text/plain": [
       "<Axes: title={'center': '1960_income'}, xlabel='Region'>"
      ]
     },
     "execution_count": 111,
     "metadata": {},
     "output_type": "execute_result"
    },
    {
     "data": {
      "image/png": "[encoded data removed]",
      "text/plain": [
       "<Figure size 640x480 with 1 Axes>"
      ]
     },
     "metadata": {},
     "output_type": "display_data"
    }
   ],
   "source": [
    "income_data_1960.boxplot(by='Region', column='1960_income', rot=90)"
   ]
  },
  {
   "cell_type": "markdown",
   "metadata": {},
   "source": [
    "Since we see big difference in scales in the diagram, as well as strong outliers (e.g. USA in North America), we can do logarithmic rescaling"
   ]
  },
  {
   "cell_type": "code",
   "execution_count": null,
   "metadata": {},
   "outputs": [],
   "source": []
  },
  {
   "cell_type": "markdown",
   "metadata": {},
   "source": [
    "### Task 1.F\n"
   ]
  },
  {
   "cell_type": "markdown",
   "metadata": {},
   "source": [
    "## Exercise 2"
   ]
  },
  {
   "cell_type": "markdown",
   "metadata": {},
   "source": [
    "## Task 2.A\n"
   ]
  },
  {
   "cell_type": "markdown",
   "metadata": {},
   "source": [
    "Load the file"
   ]
  },
  {
   "cell_type": "code",
   "execution_count": null,
   "metadata": {},
   "outputs": [],
   "source": [
    "olympics120 = pd.read_csv(open(\"./Data/athlete_events.csv\", 'r'))"
   ]
  },
  {
   "cell_type": "markdown",
   "metadata": {},
   "source": [
    "Filter the data"
   ]
  },
  {
   "cell_type": "code",
   "execution_count": null,
   "metadata": {},
   "outputs": [],
   "source": [
    "olympics120 = olympics120[olympics120['Season'] == 'Summer']"
   ]
  },
  {
   "cell_type": "markdown",
   "metadata": {},
   "source": [
    "### Task 2.B"
   ]
  },
  {
   "cell_type": "code",
   "execution_count": null,
   "metadata": {},
   "outputs": [],
   "source": [
    "print(olympics120.describe())"
   ]
  },
  {
   "cell_type": "code",
   "execution_count": null,
   "metadata": {},
   "outputs": [],
   "source": [
    "olympics120_height = olympics120.sort_values('Height', ascending=False)\n",
    "olympics120_weight = olympics120.sort_values('Weight', ascending=False)\n",
    "olympics120_age = olympics120.sort_values('Age', ascending=False)\n"
   ]
  },
  {
   "cell_type": "code",
   "execution_count": null,
   "metadata": {},
   "outputs": [],
   "source": [
    "print(f\"Sports of the tallest players:\\n {olympics120_height.head(10)['Sport']}\\n\")\n",
    "print(f\"Sports of the shortest players:\\n {olympics120_height.tail(10)['Sport']}\\n\")\n",
    "print(f\"Sports of the heaviest players:\\n {olympics120_weight.head(10)['Sport']}\\n\")\n",
    "print(f\"Sports of the lightest players:\\n {olympics120_weight.tail(10)['Sport']}\\n\")\n",
    "print(f\"Sports of the oldest players:\\n {olympics120_age.head(10)['Sport']}\\n\")\n",
    "print(f\"Sports of the youngest players:\\n {olympics120_age.tail(10)['Sport']}\\n\")\n"
   ]
  },
  {
   "cell_type": "markdown",
   "metadata": {},
   "source": [
    "### Task 2.C"
   ]
  },
  {
   "cell_type": "markdown",
   "metadata": {},
   "source": [
    "First, let's import all needed the libraries"
   ]
  },
  {
   "cell_type": "code",
   "execution_count": null,
   "metadata": {},
   "outputs": [],
   "source": [
    "!pip3 install seaborn\n",
    "import seaborn as sns\n",
    "import matplotlib.pyplot as plt"
   ]
  },
  {
   "cell_type": "markdown",
   "metadata": {},
   "source": [
    "Next, filter data with the required fields"
   ]
  },
  {
   "cell_type": "code",
   "execution_count": null,
   "metadata": {},
   "outputs": [],
   "source": [
    "men_in_bgw = olympics120[(olympics120['Sex'] == 'M') & (olympics120['Sport'].isin(['Basketball', 'Gymnastics', 'Wrestling']))]"
   ]
  },
  {
   "cell_type": "markdown",
   "metadata": {},
   "source": [
    "Draw the plot. Used the conversation at [stackoverflow](https://stackoverflow.com/questions/66290803/make-colors-in-seaborn-based-on-column-names) to distinguish colors by sports"
   ]
  },
  {
   "cell_type": "code",
   "execution_count": null,
   "metadata": {},
   "outputs": [],
   "source": [
    "def plot_weight_vs_height(df):\n",
    "    sns.scatterplot(data=df, x='Weight', y='Height', hue='Sport')\n",
    "    plt.title('Men in BGW - Weight vs Height')\n",
    "    plt.xlabel('Weight')\n",
    "    plt.ylabel('Height')\n",
    "    plt.show()\n"
   ]
  },
  {
   "cell_type": "code",
   "execution_count": null,
   "metadata": {},
   "outputs": [],
   "source": [
    "plot_weight_vs_height(men_in_bgw)"
   ]
  },
  {
   "cell_type": "code",
   "execution_count": null,
   "metadata": {},
   "outputs": [],
   "source": [
    "london_2012 = men_in_bgw[(men_in_bgw['Year'] == 2012) & (men_in_bgw['Season'] == 'Summer')]\n",
    "rome_1960 = men_in_bgw[(men_in_bgw['Year'] == 1960) & (men_in_bgw['Season'] == 'Summer')]"
   ]
  },
  {
   "cell_type": "code",
   "execution_count": null,
   "metadata": {},
   "outputs": [],
   "source": [
    "plot_weight_vs_height(london_2012)"
   ]
  },
  {
   "cell_type": "code",
   "execution_count": null,
   "metadata": {},
   "outputs": [],
   "source": [
    "plot_weight_vs_height(rome_1960)"
   ]
  },
  {
   "cell_type": "markdown",
   "metadata": {},
   "source": [
    "We see a strong positive correlation between the weight and the height of the atheletes. "
   ]
  },
  {
   "cell_type": "markdown",
   "metadata": {},
   "source": [
    "### Task 2.D\n",
    "First we check the data and see that gold medals can be identified by word \"Gold\" in the Medal column and country codes can be found in the NOC collumn (not the team, since it's too specific in cases)"
   ]
  },
  {
   "cell_type": "code",
   "execution_count": 83,
   "metadata": {},
   "outputs": [],
   "source": [
    "DataFramegolds = olympics120[olympics120['Medal'] == 'Gold']"
   ]
  },
  {
   "cell_type": "code",
   "execution_count": null,
   "metadata": {},
   "outputs": [],
   "source": [
    "gold_medals=DataFramegolds.groupby(['NOC', 'Year']).Event.apply(lambda x: len(pd.unique(x)))"
   ]
  },
  {
   "cell_type": "markdown",
   "metadata": {},
   "source": [
    "The code first takes filtered gold-medalist athletes and then groups them by country & year. This means that it creates groups for each unique pair of countries and years. After that, it counts these pairs and returns the final result."
   ]
  },
  {
   "cell_type": "markdown",
   "metadata": {},
   "source": [
    "## Works Cited\n",
    "[Markdown basics](https://www.markdownguide.org/basic-syntax/)\n",
    "\n",
    "[Merging dataframes](https://pandas.pydata.org/pandas-docs/stable/reference/api/pandas.DataFrame.merge.html)\n",
    "\n",
    "[stackoverflow](https://stackoverflow.com/questions/66290803/make-colors-in-seaborn-based-on-column-names) "
   ]
  }
 ],
 "metadata": {
  "kernelspec": {
   "display_name": "Python 3",
   "language": "python",
   "name": "python3"
  },
  "language_info": {
   "codemirror_mode": {
    "name": "ipython",
    "version": 3
   },
   "file_extension": ".py",
   "mimetype": "text/x-python",
   "name": "python",
   "nbconvert_exporter": "python",
   "pygments_lexer": "ipython3",
   "version": "3.10.12"
  }
 },
 "nbformat": 4,
 "nbformat_minor": 2
}
